{
 "cells": [
  {
   "cell_type": "markdown",
   "metadata": {},
   "source": [
    "<hr>\n",
    "\n",
    "# Climate Change Prediction\n",
    "\n",
    "<hr>"
   ]
  },
  {
   "cell_type": "markdown",
   "metadata": {},
   "source": [
    "### Background of the study"
   ]
  },
  {
   "cell_type": "markdown",
   "metadata": {},
   "source": [
    "[2] Climate change is defined as the shift in climate patterns primarily caused by greenhouse gas emissions from natural systems and human activities. Anthropogenic activities have contributed to about 1.0°C of global warming above the pre-industrial level, and this is likely to reach 1.5°C between 2030 and 2052 if current emission rates persist. In 2015, the Paris Agreement was introduced with the main objective of limiting the global temperature increase to 2°C by 2100 and pursuing efforts to limit the increase to 1.5°C.\n",
    "\n",
    "[3] Building upon this understanding, climate change poses a global threat with far-reaching impacts across various sectors. Its impact is felt in jeopardizing food production and global feeding patterns, threatening biodiversity, increasing disease risks, and devastating the tourism industry. These sectors bear the brunt of climate change's adverse effects, highlighting the urgency for comprehensive mitigation and adaptation strategies.\n",
    "\n",
    "[4] Hence, international agreements like the Paris Climate Agreement play a significant role in mitigating climate change, while the potential use of biofuels offers a sustainable solution to reduce carbon emissions.[5] Estimating GHG emissions is a crucial initial step in evaluating the current emission status of countries based on existing data sets. \n",
    "\n",
    "\n",
    "\n",
    "\n",
    "\n"
   ]
  },
  {
   "cell_type": "markdown",
   "metadata": {},
   "source": [
    "### Research Objectives"
   ]
  },
  {
   "cell_type": "markdown",
   "metadata": {},
   "source": [
    "1. To Compare the contributions of fossil fuel and land use change emissions to national and global warming.\n",
    "\n",
    "2. Assess how fossil fuel-related CO2 emissions predict changes in global mean surface temperature.\n",
    "\n",
    "3. Compare the temperature response to cumulative CO2 emissions with the response from cumulative CH4 and N2O emissions."
   ]
  },
  {
   "cell_type": "markdown",
   "metadata": {},
   "source": [
    "### Research Questions"
   ]
  },
  {
   "cell_type": "markdown",
   "metadata": {},
   "source": [
    "1. How do emissions from fossil fuel use compare to those from land use changes in contributing to national and global warming?\n",
    "\n",
    "2. How do fossil fuel-related CO2 emissions predict changes in global mean surface temperature?\n",
    "\n",
    "3. How does the temperature response to cumulative CO2 emissions compare to the response from cumulative CH4 and N2O emissions?"
   ]
  },
  {
   "cell_type": "markdown",
   "metadata": {},
   "source": [
    "### Data Description"
   ]
  },
  {
   "cell_type": "markdown",
   "metadata": {},
   "source": [
    "**Title:** National Contributions to Global Warming from Historical Emissions of CO2, CH4, and N2O (1851-2021)\n",
    "\n",
    "**Source:** This dataset is based on the latest findings of the Intergovernmental Panel on Climate Change (IPCC) and includes annual updates reflecting new national emissions data.\n",
    "\n",
    "**Time Period:** 1851-2021\n",
    "\n",
    "**Gases Included:**\n",
    "- Carbon Dioxide (CO2)\n",
    "- Methane (CH4)\n",
    "- Nitrous Oxide (N2O)\n",
    "\n",
    "**Purpose:** The dataset aims to track and apportion national contributions to global warming caused by historical emissions of CO2, CH4, and N2O. This is essential for informing equitable commitments to decarbonization and supporting international climate policy.\n",
    "\n",
    "**Key Features:**\n",
    "\n",
    "**National Contributions:** The dataset quantifies the contribution of each country to global warming based on historical emissions of CO2, CH4, and N2O.\n",
    "\n",
    "**Global Mean Surface Temperature Response:** Includes calculations of the global mean surface temperature response to historical emissions, incorporating recent refinements that account for the short atmospheric lifetime of CH4.\n",
    "\n",
    "**Sector Disaggregation:** Contributions are broken down by sector, distinguishing between fossil fuel emissions and land use-related emissions.\n",
    "\n",
    "**Annual Updates:** The dataset is updated annually to reflect new national emissions data, ensuring its relevance and accuracy.\n",
    "\n",
    "**Data Components:**\n",
    "\n",
    "**Historical Emissions Data:** Annual emissions data for CO2, CH4, and N2O from 1851 to 2021 for each country.\n",
    "Temperature Response Calculations: Estimates of the impact of these emissions on global mean surface temperature.\n",
    "\n",
    "**Sectoral Contributions:** Data on emissions from fossil fuels and land use for each gas and each country.\n",
    "Refinements: Adjustments and refinements to account for specific characteristics of each gas, such as the short atmospheric lifetime of CH4.\n"
   ]
  },
  {
   "cell_type": "markdown",
   "metadata": {},
   "source": [
    "### References"
   ]
  },
  {
   "cell_type": "markdown",
   "metadata": {},
   "source": [
    "[1] Jones, M. W., Peters, G. P., Gasser, T., Andrew, R. M., Schwingshackl, C., Gütschow, J., Houghton, R. A., Friedlingstein, P., Pongratz, J., & Le Quéré, C. (2023). National contributions to climate change due to historical emissions of carbon dioxide, methane, and nitrous oxide since 1850. Scientific Data, 10(1), 155. (https://doi.org/10.1038/s41597-023-02041-1)\n",
    "\n",
    "\n",
    "[2] Fawzy, S., Osman, A. I., Doran, J., & Rooney, D. W. (2020). Strategies for mitigation of climate change: a review. Environmental Chemistry Letters, 18, 2069-2094. (https://link.springer.com/content/pdf/10.1007/s10311-020-01059-w.pdf)\n",
    "\n",
    "\n",
    "[3] Abbass, K., Qasim, M. Z., Song, H., Murshed, M., Mahmood, H., & Younis, I. (2022). A review of the global climate change impacts, adaptation, and sustainable mitigation measures. Environmental Science and Pollution Research, 29(28), 42539-42559.\n",
    "\n",
    "[4] Mikhaylov, A., Moiseev, N., Aleshin, K., & Burkhardt, T. (2020). Global climate change and greenhouse effect. Entrepreneurship and Sustainability Issues, 7(4), 2897.\n",
    "\n",
    "[5] Kazancoglu, Y., Ozbiltekin-Pala, M., & Ozkan-Ozen, Y. D. (2021). Prediction and evaluation of greenhouse gas emissions for sustainable road transport within Europe. Sustainable Cities and Society, 70, 102924."
   ]
  }
 ],
 "metadata": {
  "language_info": {
   "name": "python"
  }
 },
 "nbformat": 4,
 "nbformat_minor": 2
}
